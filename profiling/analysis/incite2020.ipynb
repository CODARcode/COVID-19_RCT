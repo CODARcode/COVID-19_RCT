{
 "cells": [
  {
   "cell_type": "code",
   "execution_count": 1,
   "metadata": {
    "ExecuteTime": {
     "end_time": "2020-06-16T20:56:56.886506Z",
     "start_time": "2020-06-16T20:56:55.651805Z"
    }
   },
   "outputs": [
    {
     "data": {
      "text/html": [
       "<style>.container { width:100% !important; }</style>"
      ],
      "text/plain": [
       "<IPython.core.display.HTML object>"
      ]
     },
     "metadata": {},
     "output_type": "display_data"
    }
   ],
   "source": [
    "%matplotlib inline\n",
    "%run 'bin/notebook_utils.py'\n",
    "%run 'bin/plot_utilization.py'\n",
    "import matplotlib.ticker as mticker\n",
    "import radical.entk as re"
   ]
  },
  {
   "cell_type": "code",
   "execution_count": 2,
   "metadata": {
    "ExecuteTime": {
     "end_time": "2020-06-16T20:56:57.511213Z",
     "start_time": "2020-06-16T20:56:56.889549Z"
    }
   },
   "outputs": [
    {
     "name": "stdout",
     "output_type": "stream",
     "text": [
      "\r\n",
      "  python               : 3.7.6\r\n",
      "  pythonpath           : \r\n",
      "  virtualenv           : base\r\n",
      "\r\n",
      "  radical.analytics    : 0.90.7\r\n",
      "  radical.entk         : 1.4.0\r\n",
      "  radical.pilot        : 1.4.1\r\n",
      "  radical.saga         : 1.4.0\r\n",
      "  radical.utils        : 1.4.0\r\n",
      "\r\n"
     ]
    }
   ],
   "source": [
    "! radical-stack"
   ]
  },
  {
   "cell_type": "code",
   "execution_count": 3,
   "metadata": {
    "ExecuteTime": {
     "end_time": "2020-06-16T20:56:57.517941Z",
     "start_time": "2020-06-16T20:56:57.514422Z"
    }
   },
   "outputs": [],
   "source": [
    "suds = ['re.session.login3.litan.018460.0010', 're.session.login1.litan.018465.0001']\n",
    "sdir = '../data/raw/'\n",
    "sids = [sdir+s for s in suds]"
   ]
  },
  {
   "cell_type": "code",
   "execution_count": 4,
   "metadata": {
    "ExecuteTime": {
     "end_time": "2020-06-16T20:59:00.350272Z",
     "start_time": "2020-06-16T20:56:57.521125Z"
    }
   },
   "outputs": [
    {
     "name": "stdout",
     "output_type": "stream",
     "text": [
      "WARNING: profile \"../data/raw/re.session.login3.litan.018460.0010/cmgr.0000.hb.prof\" not correctly closed.\n",
      "WARNING: profile \"../data/raw/re.session.login3.litan.018460.0010/cmgr.0000.prof\" not correctly closed.\n",
      "WARNING: profile \"../data/raw/re.session.login3.litan.018460.0010/cmgr.0001.hb.prof\" not correctly closed.\n",
      "WARNING: profile \"../data/raw/re.session.login3.litan.018460.0010/cmgr.0001.prof\" not correctly closed.\n",
      "WARNING: profile \"../data/raw/re.session.login3.litan.018460.0010/cmgr.0002.hb.prof\" not correctly closed.\n",
      "WARNING: profile \"../data/raw/re.session.login3.litan.018460.0010/cmgr.0002.prof\" not correctly closed.\n",
      "WARNING: profile \"../data/raw/re.session.login3.litan.018460.0010/control_pubsub.prof\" not correctly closed.\n",
      "WARNING: profile \"../data/raw/re.session.login3.litan.018460.0010/log_pubsub.prof\" not correctly closed.\n",
      "WARNING: profile \"../data/raw/re.session.login3.litan.018460.0010/pmgr.0000.prof\" not correctly closed.\n",
      "session loaded\n",
      "WARNING: profile \"../data/raw/re.session.login3.litan.018460.0010/cmgr.0000.hb.prof\" not correctly closed.\n",
      "WARNING: profile \"../data/raw/re.session.login3.litan.018460.0010/cmgr.0000.prof\" not correctly closed.\n",
      "WARNING: profile \"../data/raw/re.session.login3.litan.018460.0010/cmgr.0001.hb.prof\" not correctly closed.\n",
      "WARNING: profile \"../data/raw/re.session.login3.litan.018460.0010/cmgr.0001.prof\" not correctly closed.\n",
      "WARNING: profile \"../data/raw/re.session.login3.litan.018460.0010/cmgr.0002.hb.prof\" not correctly closed.\n",
      "WARNING: profile \"../data/raw/re.session.login3.litan.018460.0010/cmgr.0002.prof\" not correctly closed.\n",
      "WARNING: profile \"../data/raw/re.session.login3.litan.018460.0010/control_pubsub.prof\" not correctly closed.\n",
      "WARNING: profile \"../data/raw/re.session.login3.litan.018460.0010/log_pubsub.prof\" not correctly closed.\n",
      "WARNING: profile \"../data/raw/re.session.login3.litan.018460.0010/pmgr.0000.prof\" not correctly closed.\n",
      "session loaded\n",
      "WARNING: profile \"../data/raw/re.session.login3.litan.018460.0010/cmgr.0000.hb.prof\" not correctly closed.\n",
      "WARNING: profile \"../data/raw/re.session.login3.litan.018460.0010/cmgr.0000.prof\" not correctly closed.\n",
      "WARNING: profile \"../data/raw/re.session.login3.litan.018460.0010/cmgr.0001.hb.prof\" not correctly closed.\n",
      "WARNING: profile \"../data/raw/re.session.login3.litan.018460.0010/cmgr.0001.prof\" not correctly closed.\n",
      "WARNING: profile \"../data/raw/re.session.login3.litan.018460.0010/cmgr.0002.hb.prof\" not correctly closed.\n",
      "WARNING: profile \"../data/raw/re.session.login3.litan.018460.0010/cmgr.0002.prof\" not correctly closed.\n",
      "WARNING: profile \"../data/raw/re.session.login3.litan.018460.0010/control_pubsub.prof\" not correctly closed.\n",
      "WARNING: profile \"../data/raw/re.session.login3.litan.018460.0010/log_pubsub.prof\" not correctly closed.\n",
      "WARNING: profile \"../data/raw/re.session.login3.litan.018460.0010/pmgr.0000.prof\" not correctly closed.\n",
      "session loaded\n",
      "WARNING: profile \"../data/raw/re.session.login3.litan.018460.0010/cmgr.0000.hb.prof\" not correctly closed.\n",
      "WARNING: profile \"../data/raw/re.session.login3.litan.018460.0010/cmgr.0000.prof\" not correctly closed.\n",
      "WARNING: profile \"../data/raw/re.session.login3.litan.018460.0010/cmgr.0001.hb.prof\" not correctly closed.\n",
      "WARNING: profile \"../data/raw/re.session.login3.litan.018460.0010/cmgr.0001.prof\" not correctly closed.\n",
      "WARNING: profile \"../data/raw/re.session.login3.litan.018460.0010/cmgr.0002.hb.prof\" not correctly closed.\n",
      "WARNING: profile \"../data/raw/re.session.login3.litan.018460.0010/cmgr.0002.prof\" not correctly closed.\n",
      "WARNING: profile \"../data/raw/re.session.login3.litan.018460.0010/control_pubsub.prof\" not correctly closed.\n",
      "WARNING: profile \"../data/raw/re.session.login3.litan.018460.0010/log_pubsub.prof\" not correctly closed.\n",
      "WARNING: profile \"../data/raw/re.session.login3.litan.018460.0010/pmgr.0000.prof\" not correctly closed.\n",
      "session loaded\n",
      "WARNING: profile \"../data/raw/re.session.login3.litan.018460.0010/cmgr.0000.hb.prof\" not correctly closed.\n",
      "WARNING: profile \"../data/raw/re.session.login3.litan.018460.0010/cmgr.0000.prof\" not correctly closed.\n",
      "WARNING: profile \"../data/raw/re.session.login3.litan.018460.0010/cmgr.0001.hb.prof\" not correctly closed.\n",
      "WARNING: profile \"../data/raw/re.session.login3.litan.018460.0010/cmgr.0001.prof\" not correctly closed.\n",
      "WARNING: profile \"../data/raw/re.session.login3.litan.018460.0010/cmgr.0002.hb.prof\" not correctly closed.\n",
      "WARNING: profile \"../data/raw/re.session.login3.litan.018460.0010/cmgr.0002.prof\" not correctly closed.\n",
      "WARNING: profile \"../data/raw/re.session.login3.litan.018460.0010/control_pubsub.prof\" not correctly closed.\n",
      "WARNING: profile \"../data/raw/re.session.login3.litan.018460.0010/log_pubsub.prof\" not correctly closed.\n",
      "WARNING: profile \"../data/raw/re.session.login3.litan.018460.0010/pmgr.0000.prof\" not correctly closed.\n",
      "session loaded\n",
      "WARNING: profile \"../data/raw/re.session.login1.litan.018465.0001/cmgr.0000.hb.prof\" not correctly closed.\n",
      "WARNING: profile \"../data/raw/re.session.login1.litan.018465.0001/cmgr.0000.prof\" not correctly closed.\n",
      "WARNING: profile \"../data/raw/re.session.login1.litan.018465.0001/cmgr.0001.hb.prof\" not correctly closed.\n",
      "WARNING: profile \"../data/raw/re.session.login1.litan.018465.0001/cmgr.0001.prof\" not correctly closed.\n",
      "WARNING: profile \"../data/raw/re.session.login1.litan.018465.0001/cmgr.0002.hb.prof\" not correctly closed.\n",
      "WARNING: profile \"../data/raw/re.session.login1.litan.018465.0001/cmgr.0002.prof\" not correctly closed.\n",
      "WARNING: profile \"../data/raw/re.session.login1.litan.018465.0001/control_pubsub.prof\" not correctly closed.\n",
      "WARNING: profile \"../data/raw/re.session.login1.litan.018465.0001/log_pubsub.prof\" not correctly closed.\n",
      "WARNING: profile \"../data/raw/re.session.login1.litan.018465.0001/pmgr.0000.prof\" not correctly closed.\n",
      "session loaded\n",
      "WARNING: profile \"../data/raw/re.session.login1.litan.018465.0001/cmgr.0000.hb.prof\" not correctly closed.\n",
      "WARNING: profile \"../data/raw/re.session.login1.litan.018465.0001/cmgr.0000.prof\" not correctly closed.\n",
      "WARNING: profile \"../data/raw/re.session.login1.litan.018465.0001/cmgr.0001.hb.prof\" not correctly closed.\n",
      "WARNING: profile \"../data/raw/re.session.login1.litan.018465.0001/cmgr.0001.prof\" not correctly closed.\n",
      "WARNING: profile \"../data/raw/re.session.login1.litan.018465.0001/cmgr.0002.hb.prof\" not correctly closed.\n",
      "WARNING: profile \"../data/raw/re.session.login1.litan.018465.0001/cmgr.0002.prof\" not correctly closed.\n",
      "WARNING: profile \"../data/raw/re.session.login1.litan.018465.0001/control_pubsub.prof\" not correctly closed.\n",
      "WARNING: profile \"../data/raw/re.session.login1.litan.018465.0001/log_pubsub.prof\" not correctly closed.\n",
      "WARNING: profile \"../data/raw/re.session.login1.litan.018465.0001/pmgr.0000.prof\" not correctly closed.\n",
      "session loaded\n",
      "WARNING: profile \"../data/raw/re.session.login1.litan.018465.0001/cmgr.0000.hb.prof\" not correctly closed.\n",
      "WARNING: profile \"../data/raw/re.session.login1.litan.018465.0001/cmgr.0000.prof\" not correctly closed.\n",
      "WARNING: profile \"../data/raw/re.session.login1.litan.018465.0001/cmgr.0001.hb.prof\" not correctly closed.\n",
      "WARNING: profile \"../data/raw/re.session.login1.litan.018465.0001/cmgr.0001.prof\" not correctly closed.\n",
      "WARNING: profile \"../data/raw/re.session.login1.litan.018465.0001/cmgr.0002.hb.prof\" not correctly closed.\n",
      "WARNING: profile \"../data/raw/re.session.login1.litan.018465.0001/cmgr.0002.prof\" not correctly closed.\n",
      "WARNING: profile \"../data/raw/re.session.login1.litan.018465.0001/control_pubsub.prof\" not correctly closed.\n",
      "WARNING: profile \"../data/raw/re.session.login1.litan.018465.0001/log_pubsub.prof\" not correctly closed.\n",
      "WARNING: profile \"../data/raw/re.session.login1.litan.018465.0001/pmgr.0000.prof\" not correctly closed.\n",
      "session loaded\n",
      "WARNING: profile \"../data/raw/re.session.login1.litan.018465.0001/cmgr.0000.hb.prof\" not correctly closed.\n",
      "WARNING: profile \"../data/raw/re.session.login1.litan.018465.0001/cmgr.0000.prof\" not correctly closed.\n",
      "WARNING: profile \"../data/raw/re.session.login1.litan.018465.0001/cmgr.0001.hb.prof\" not correctly closed.\n",
      "WARNING: profile \"../data/raw/re.session.login1.litan.018465.0001/cmgr.0001.prof\" not correctly closed.\n",
      "WARNING: profile \"../data/raw/re.session.login1.litan.018465.0001/cmgr.0002.hb.prof\" not correctly closed.\n",
      "WARNING: profile \"../data/raw/re.session.login1.litan.018465.0001/cmgr.0002.prof\" not correctly closed.\n",
      "WARNING: profile \"../data/raw/re.session.login1.litan.018465.0001/control_pubsub.prof\" not correctly closed.\n",
      "WARNING: profile \"../data/raw/re.session.login1.litan.018465.0001/log_pubsub.prof\" not correctly closed.\n",
      "WARNING: profile \"../data/raw/re.session.login1.litan.018465.0001/pmgr.0000.prof\" not correctly closed.\n",
      "session loaded\n"
     ]
    },
    {
     "name": "stdout",
     "output_type": "stream",
     "text": [
      "WARNING: profile \"../data/raw/re.session.login1.litan.018465.0001/cmgr.0000.hb.prof\" not correctly closed.\n",
      "WARNING: profile \"../data/raw/re.session.login1.litan.018465.0001/cmgr.0000.prof\" not correctly closed.\n",
      "WARNING: profile \"../data/raw/re.session.login1.litan.018465.0001/cmgr.0001.hb.prof\" not correctly closed.\n",
      "WARNING: profile \"../data/raw/re.session.login1.litan.018465.0001/cmgr.0001.prof\" not correctly closed.\n",
      "WARNING: profile \"../data/raw/re.session.login1.litan.018465.0001/cmgr.0002.hb.prof\" not correctly closed.\n",
      "WARNING: profile \"../data/raw/re.session.login1.litan.018465.0001/cmgr.0002.prof\" not correctly closed.\n",
      "WARNING: profile \"../data/raw/re.session.login1.litan.018465.0001/control_pubsub.prof\" not correctly closed.\n",
      "WARNING: profile \"../data/raw/re.session.login1.litan.018465.0001/log_pubsub.prof\" not correctly closed.\n",
      "WARNING: profile \"../data/raw/re.session.login1.litan.018465.0001/pmgr.0000.prof\" not correctly closed.\n",
      "session loaded\n"
     ]
    }
   ],
   "source": [
    "ss = {}\n",
    "for sid in suds:\n",
    "    sp = sdir+sid\n",
    "    ss[sid] = {'s': ra.Session(sp, 'radical.pilot')}\n",
    "    ss[sid].update({'p': ss[sid]['s'].filter(etype='pilot'   , inplace=False),\n",
    "                    'u': ss[sid]['s'].filter(etype='unit'    , inplace=False),\n",
    "                    't': ss[sid]['s'].filter(etype='task'    , inplace=False),\n",
    "                    'w': ss[sid]['s'].filter(etype='pipeline', inplace=False)})"
   ]
  },
  {
   "cell_type": "code",
   "execution_count": 5,
   "metadata": {
    "ExecuteTime": {
     "end_time": "2020-06-16T20:59:00.363319Z",
     "start_time": "2020-06-16T20:59:00.352332Z"
    }
   },
   "outputs": [],
   "source": [
    "for sid in suds:\n",
    "    ss[sid].update({'sid'   : ss[sid]['s'].uid,\n",
    "                    'pid'   : ss[sid]['p'].list('uid'),\n",
    "                    'npilot': len(ss[sid]['p'].get()),\n",
    "                    'lm'    : ss[sid]['s'].get(etype='pilot')[0].cfg['agent_launch_method'],\n",
    "                    'npact' : len(ss[sid]['p'].timestamps(state='PMGR_ACTIVE')),\n",
    "                    'nunit' : len(ss[sid]['u'].get()),\n",
    "                    'nudone': len(ss[sid]['u'].timestamps(state='DONE')),\n",
    "                    'nufail': len(ss[sid]['u'].timestamps(state='FAILED'))})\n",
    "    ss[sid].update({'pres'  : ss[sid]['p'].get(uid=ss[sid]['pid'])[0].description['resource'],\n",
    "                    'ncores': ss[sid]['p'].get(uid=ss[sid]['pid'])[0].description['cores'],\n",
    "                    'ngpus' : ss[sid]['p'].get(uid=ss[sid]['pid'])[0].description['gpus']})                  \n",
    "    ss[sid].update({'nnodes': ss[sid]['ngpus']/6})"
   ]
  },
  {
   "cell_type": "code",
   "execution_count": 6,
   "metadata": {
    "ExecuteTime": {
     "end_time": "2020-06-16T20:59:00.371528Z",
     "start_time": "2020-06-16T20:59:00.365360Z"
    }
   },
   "outputs": [
    {
     "name": "stdout",
     "output_type": "stream",
     "text": [
      "\n",
      "re.session.login3.litan.018460.0010:\n",
      "\tName of the HPC platform: ornl.summit\n",
      "\tPilot launch method: JSRUN\n",
      "\tNumber of pilots requested: 1\n",
      "\tNumber of pilots active: 1\n",
      "\tNumber of requested cores: 5376\n",
      "\tNumber of requested GPUs: 768\n",
      "\tNumber of requested nodes: 128.0\n",
      "\tNumber of nodes asked by ENTK: 128\n",
      "\tNumber of tasks executed by EnTK: 100\n",
      "\tNumber of tasks successfully executed by EnTK: 100\n",
      "\tNumber of failed tasks: 0\n",
      "\n",
      "\n",
      "re.session.login1.litan.018465.0001:\n",
      "\tName of the HPC platform: ornl.summit\n",
      "\tPilot launch method: JSRUN\n",
      "\tNumber of pilots requested: 1\n",
      "\tNumber of pilots active: 1\n",
      "\tNumber of requested cores: 10752\n",
      "\tNumber of requested GPUs: 1536\n",
      "\tNumber of requested nodes: 256.0\n",
      "\tNumber of nodes asked by ENTK: 256\n",
      "\tNumber of tasks executed by EnTK: 300\n",
      "\tNumber of tasks successfully executed by EnTK: 300\n",
      "\tNumber of failed tasks: 0\n",
      "\n"
     ]
    }
   ],
   "source": [
    "for sid in suds:\n",
    "    print(\"\"\"\n",
    "%s:\n",
    "\\tName of the HPC platform: %s\n",
    "\\tPilot launch method: %s\n",
    "\\tNumber of pilots requested: %i\n",
    "\\tNumber of pilots active: %i\n",
    "\\tNumber of requested cores: %i\n",
    "\\tNumber of requested GPUs: %s\n",
    "\\tNumber of requested nodes: %s\n",
    "\\tNumber of nodes asked by ENTK: %i\n",
    "\\tNumber of tasks executed by EnTK: %i\n",
    "\\tNumber of tasks successfully executed by EnTK: %i\n",
    "\\tNumber of failed tasks: %i\n",
    "\"\"\" % (sid              , ss[sid]['pres']  , ss[sid]['lm'], \n",
    "       ss[sid]['npilot'], ss[sid]['npact'] , ss[sid]['ncores']/4, \n",
    "       ss[sid]['ngpus'] , ss[sid]['nnodes'], ss[sid]['ncores']/168, \n",
    "       ss[sid]['nunit'] , ss[sid]['nudone'], ss[sid]['nufail']))"
   ]
  },
  {
   "cell_type": "code",
   "execution_count": 7,
   "metadata": {
    "ExecuteTime": {
     "end_time": "2020-06-16T20:59:00.421177Z",
     "start_time": "2020-06-16T20:59:00.374005Z"
    }
   },
   "outputs": [],
   "source": [
    "for sid in suds:\n",
    "    w  = ss[sid]['w']\n",
    "    u  = ss[sid]['u']\n",
    "    t  = ss[sid]['t']\n",
    "    p  = ss[sid]['p']\n",
    "    p0 = p.get(uid=ss[sid]['pid'])[0]\n",
    "\n",
    "    ss[sid].update({\n",
    "      'ttc'  : p0.duration(event=[ {ru.EVENT: 'state'        , ru.STATE: rp.NEW                }, \n",
    "                                  [{ru.EVENT: 'state'        , ru.STATE: re.states.COMPLETED   },\n",
    "                                   {ru.EVENT: 'state'        , ru.STATE: re.states.CANCELED    },\n",
    "                                   {ru.EVENT: 'state'        , ru.STATE: re.states.FAILED      }]]),\n",
    "      'ttq_p': p0.duration(event=[ {ru.EVENT: 'state'        , ru.STATE: rp.PMGR_ACTIVE_PENDING}, \n",
    "                                   {ru.EVENT: 'state'        , ru.STATE: rp.PMGR_ACTIVE        } ]),\n",
    "      'ttx_w': w.duration( event=[ {ru.EVENT: 'state'        , ru.STATE: re.states.SCHEDULING  },\n",
    "                                   {ru.EVENT: 'state'        , ru.STATE: re.states.DONE        } ]),\n",
    "      'ttx_p': p0.duration(event=[ {ru.EVENT: 'state'        , ru.STATE: rp.PMGR_ACTIVE        },\n",
    "                                  [{ru.EVENT: 'state'        , ru.STATE: rp.DONE               },\n",
    "                                   {ru.EVENT: 'state'        , ru.STATE: rp.FAILED             },\n",
    "                                   {ru.EVENT: 'state'        , ru.STATE: rp.CANCELED           }]]),\n",
    "      'sub_t': t.duration( event=[ {ru.EVENT: 'state'        , ru.STATE: re.states.SCHEDULING  },\n",
    "                                   {ru.EVENT: 'state'        , ru.STATE: re.states.SUBMITTING  } ]),\n",
    "      'ttx_t': t.duration( event=[ {ru.EVENT: 'state'        , ru.STATE: re.states.SUBMITTING  },\n",
    "                                  [{ru.EVENT: 'state'        , ru.STATE: re.states.COMPLETED   },\n",
    "                                   {ru.EVENT: 'state'        , ru.STATE: re.states.CANCELED    },\n",
    "                                   {ru.EVENT: 'state'        , ru.STATE: re.states.FAILED      }]]),\n",
    "      'ttx_u': u.duration( event=[ {ru.EVENT: 'cu_exec_start', ru.STATE: None                  },      \n",
    "                                   {ru.EVENT: 'cu_exec_stop' , ru.STATE: None                  } ]),\n",
    "      'pilot_lifetime': p.duration(event=[{ru.EVENT: 'bootstrap_0_start', ru.STATE: None},\n",
    "                                          {ru.EVENT: 'bootstrap_0_stop', ru.STATE: None}])})\n",
    "    \n",
    "    ss[sid].update({'ovh_rtc': ss[sid]['pilot_lifetime'] - ss[sid]['ttx_u']})"
   ]
  },
  {
   "cell_type": "code",
   "execution_count": 13,
   "metadata": {
    "ExecuteTime": {
     "end_time": "2020-06-16T20:59:03.462411Z",
     "start_time": "2020-06-16T20:59:00.424994Z"
    }
   },
   "outputs": [
    {
     "data": {
      "image/png": "[encoded data removed]",
      "text/plain": [
       "<Figure size 864x288 with 2 Axes>"
      ]
     },
     "metadata": {},
     "output_type": "display_data"
    }
   ],
   "source": [
    "fwidth = 6*len(suds)\n",
    "fhight = 4\n",
    "fig, axarr = plt.subplots(1, len(suds), sharey=True, figsize=(fwidth, fhight))\n",
    "\n",
    "i = 0\n",
    "j = 'a'\n",
    "for sid in suds:\n",
    "    if len(suds) > 1:\n",
    "        ax = axarr[i]\n",
    "    else:\n",
    "        ax = axarr\n",
    "    \n",
    "    ax.title.set_text('%s/%s Tasks/Nodes' % (ss[sid]['nunit'], int(ss[sid]['nnodes'])))\n",
    "\n",
    "    ax.bar(x = 'OVH', height = ss[sid]['ovh_rtc'], color = tableau20[1])\n",
    "    ax.bar(x = 'TTX', height = ss[sid]['ttx_u']  , color = tableau20[3])\n",
    "\n",
    "    ax.set_xlabel('(%s)' % j, labelpad=45)\n",
    "\n",
    "    i = i+1\n",
    "    j = chr(ord(j) + 1)\n",
    "\n",
    "fig.text(-0.1,  0.5 , 'Time (s)', va='center', rotation='vertical', fontsize=24)\n",
    "fig.text( 0.5, -0.05, 'Metric'  , ha='center', fontsize=24)\n",
    "fig.legend(['RADICAL Cybertools overhead (OVH)', 'Workflow time to completion (TTX)'], loc='upper center', \n",
    "           bbox_to_anchor=(0.52, 1.6), fontsize=24, ncol=1)\n",
    "    \n",
    "plt.savefig('figures/incite2020_ovh_ttx.pdf', dpi=300, bbox_inches='tight')\n",
    "plt.savefig('figures/incite2020_ovh_ttx.png', dpi=300, bbox_inches='tight')"
   ]
  },
  {
   "cell_type": "code",
   "execution_count": null,
   "metadata": {},
   "outputs": [],
   "source": []
  }
 ],
 "metadata": {
  "hide_input": false,
  "kernelspec": {
   "display_name": "Python 3",
   "language": "python",
   "name": "python3"
  },
  "language_info": {
   "codemirror_mode": {
    "name": "ipython",
    "version": 3
   },
   "file_extension": ".py",
   "mimetype": "text/x-python",
   "name": "python",
   "nbconvert_exporter": "python",
   "pygments_lexer": "ipython3",
   "version": "3.7.6"
  },
  "varInspector": {
   "cols": {
    "lenName": 16,
    "lenType": 16,
    "lenVar": 40
   },
   "kernels_config": {
    "python": {
     "delete_cmd_postfix": "",
     "delete_cmd_prefix": "del ",
     "library": "var_list.py",
     "varRefreshCmd": "print(var_dic_list())"
    },
    "r": {
     "delete_cmd_postfix": ") ",
     "delete_cmd_prefix": "rm(",
     "library": "var_list.r",
     "varRefreshCmd": "cat(var_dic_list()) "
    }
   },
   "types_to_exclude": [
    "module",
    "function",
    "builtin_function_or_method",
    "instance",
    "_Feature"
   ],
   "window_display": false
  }
 },
 "nbformat": 4,
 "nbformat_minor": 4
}
